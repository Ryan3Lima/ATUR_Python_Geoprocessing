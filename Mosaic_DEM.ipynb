{
 "cells": [
  {
   "cell_type": "markdown",
   "id": "425c322c-e485-4015-b0b2-6c0ad8258dda",
   "metadata": {},
   "source": [
    "# Raster Mosaic in Python\n",
    "### Step 1:\n",
    "Lets start by importing the libraryes needed"
   ]
  },
  {
   "cell_type": "code",
   "execution_count": 2,
   "id": "9d804e72-873b-4741-9423-059ea82b23e3",
   "metadata": {},
   "outputs": [],
   "source": [
    "from rasterio.plot import show\n",
    "from rasterio.merge import merge\n",
    "import rasterio as rio\n",
    "from pathlib import Path"
   ]
  },
  {
   "cell_type": "markdown",
   "id": "692146ba-3943-4ffc-8572-442f960d55ad",
   "metadata": {},
   "source": [
    "### Step: 2:\n",
    "Specify path to input directory of rasters and create output directory"
   ]
  },
  {
   "cell_type": "code",
   "execution_count": 14,
   "id": "bfe9a546-6eb1-4848-9be5-9ad4a7e4eac4",
   "metadata": {},
   "outputs": [
    {
     "data": {
      "text/plain": [
       "[WindowsPath('K:/ATUR/ELEVATION/3DEP_10m_1_3_arcsecond/USGS_13_n32w109_20130911.tif'),\n",
       " WindowsPath('K:/ATUR/ELEVATION/3DEP_10m_1_3_arcsecond/USGS_13_n32w110_20211229.tif'),\n",
       " WindowsPath('K:/ATUR/ELEVATION/3DEP_10m_1_3_arcsecond/USGS_13_n32w111_20240401.tif'),\n",
       " WindowsPath('K:/ATUR/ELEVATION/3DEP_10m_1_3_arcsecond/USGS_13_n32w112_20240401.tif'),\n",
       " WindowsPath('K:/ATUR/ELEVATION/3DEP_10m_1_3_arcsecond/USGS_13_n32w113_20210615.tif'),\n",
       " WindowsPath('K:/ATUR/ELEVATION/3DEP_10m_1_3_arcsecond/USGS_13_n32w114_20240401.tif'),\n",
       " WindowsPath('K:/ATUR/ELEVATION/3DEP_10m_1_3_arcsecond/USGS_13_n33w108_20130911.tif'),\n",
       " WindowsPath('K:/ATUR/ELEVATION/3DEP_10m_1_3_arcsecond/USGS_13_n33w109_20130911.tif'),\n",
       " WindowsPath('K:/ATUR/ELEVATION/3DEP_10m_1_3_arcsecond/USGS_13_n33w110_20220811.tif'),\n",
       " WindowsPath('K:/ATUR/ELEVATION/3DEP_10m_1_3_arcsecond/USGS_13_n33w111_20240401.tif'),\n",
       " WindowsPath('K:/ATUR/ELEVATION/3DEP_10m_1_3_arcsecond/USGS_13_n33w112_20240401.tif'),\n",
       " WindowsPath('K:/ATUR/ELEVATION/3DEP_10m_1_3_arcsecond/USGS_13_n33w113_20240401.tif'),\n",
       " WindowsPath('K:/ATUR/ELEVATION/3DEP_10m_1_3_arcsecond/USGS_13_n33w114_20240401.tif'),\n",
       " WindowsPath('K:/ATUR/ELEVATION/3DEP_10m_1_3_arcsecond/USGS_13_n33w115_20240327.tif'),\n",
       " WindowsPath('K:/ATUR/ELEVATION/3DEP_10m_1_3_arcsecond/USGS_13_n33w116_20240327.tif'),\n",
       " WindowsPath('K:/ATUR/ELEVATION/3DEP_10m_1_3_arcsecond/USGS_13_n34w109_20130911.tif'),\n",
       " WindowsPath('K:/ATUR/ELEVATION/3DEP_10m_1_3_arcsecond/USGS_13_n34w110_20220811.tif'),\n",
       " WindowsPath('K:/ATUR/ELEVATION/3DEP_10m_1_3_arcsecond/USGS_13_n34w111_20240402.tif'),\n",
       " WindowsPath('K:/ATUR/ELEVATION/3DEP_10m_1_3_arcsecond/USGS_13_n34w112_20240402.tif'),\n",
       " WindowsPath('K:/ATUR/ELEVATION/3DEP_10m_1_3_arcsecond/USGS_13_n34w113_20240402.tif'),\n",
       " WindowsPath('K:/ATUR/ELEVATION/3DEP_10m_1_3_arcsecond/USGS_13_n34w114_20240402.tif'),\n",
       " WindowsPath('K:/ATUR/ELEVATION/3DEP_10m_1_3_arcsecond/USGS_13_n34w115_20240327.tif'),\n",
       " WindowsPath('K:/ATUR/ELEVATION/3DEP_10m_1_3_arcsecond/USGS_13_n34w116_20240327.tif'),\n",
       " WindowsPath('K:/ATUR/ELEVATION/3DEP_10m_1_3_arcsecond/USGS_13_n35w109_20211207.tif'),\n",
       " WindowsPath('K:/ATUR/ELEVATION/3DEP_10m_1_3_arcsecond/USGS_13_n35w110_20211207.tif'),\n",
       " WindowsPath('K:/ATUR/ELEVATION/3DEP_10m_1_3_arcsecond/USGS_13_n35w111_20240402.tif'),\n",
       " WindowsPath('K:/ATUR/ELEVATION/3DEP_10m_1_3_arcsecond/USGS_13_n35w112_20240402.tif'),\n",
       " WindowsPath('K:/ATUR/ELEVATION/3DEP_10m_1_3_arcsecond/USGS_13_n35w113_20240402.tif'),\n",
       " WindowsPath('K:/ATUR/ELEVATION/3DEP_10m_1_3_arcsecond/USGS_13_n35w114_20240402.tif'),\n",
       " WindowsPath('K:/ATUR/ELEVATION/3DEP_10m_1_3_arcsecond/USGS_13_n35w115_20221019.tif'),\n",
       " WindowsPath('K:/ATUR/ELEVATION/3DEP_10m_1_3_arcsecond/USGS_13_n36w108_20240308.tif'),\n",
       " WindowsPath('K:/ATUR/ELEVATION/3DEP_10m_1_3_arcsecond/USGS_13_n36w109_20240308.tif'),\n",
       " WindowsPath('K:/ATUR/ELEVATION/3DEP_10m_1_3_arcsecond/USGS_13_n36w110_20231221.tif'),\n",
       " WindowsPath('K:/ATUR/ELEVATION/3DEP_10m_1_3_arcsecond/USGS_13_n36w111_20220303.tif'),\n",
       " WindowsPath('K:/ATUR/ELEVATION/3DEP_10m_1_3_arcsecond/USGS_13_n36w112_20230418.tif'),\n",
       " WindowsPath('K:/ATUR/ELEVATION/3DEP_10m_1_3_arcsecond/USGS_13_n36w113_20240402.tif'),\n",
       " WindowsPath('K:/ATUR/ELEVATION/3DEP_10m_1_3_arcsecond/USGS_13_n36w114_20240402.tif'),\n",
       " WindowsPath('K:/ATUR/ELEVATION/3DEP_10m_1_3_arcsecond/USGS_13_n36w115_20231102.tif'),\n",
       " WindowsPath('K:/ATUR/ELEVATION/3DEP_10m_1_3_arcsecond/USGS_13_n37w108_20220801.tif'),\n",
       " WindowsPath('K:/ATUR/ELEVATION/3DEP_10m_1_3_arcsecond/USGS_13_n37w109_20220720.tif'),\n",
       " WindowsPath('K:/ATUR/ELEVATION/3DEP_10m_1_3_arcsecond/USGS_13_n37w110_20220720.tif'),\n",
       " WindowsPath('K:/ATUR/ELEVATION/3DEP_10m_1_3_arcsecond/USGS_13_n37w111_20211215.tif'),\n",
       " WindowsPath('K:/ATUR/ELEVATION/3DEP_10m_1_3_arcsecond/USGS_13_n37w112_20230418.tif'),\n",
       " WindowsPath('K:/ATUR/ELEVATION/3DEP_10m_1_3_arcsecond/USGS_13_n37w113_20240130.tif'),\n",
       " WindowsPath('K:/ATUR/ELEVATION/3DEP_10m_1_3_arcsecond/USGS_13_n37w114_20240130.tif'),\n",
       " WindowsPath('K:/ATUR/ELEVATION/3DEP_10m_1_3_arcsecond/USGS_13_n37w115_20240130.tif'),\n",
       " WindowsPath('K:/ATUR/ELEVATION/3DEP_10m_1_3_arcsecond/USGS_13_n38w108_20220720.tif'),\n",
       " WindowsPath('K:/ATUR/ELEVATION/3DEP_10m_1_3_arcsecond/USGS_13_n38w109_20220720.tif'),\n",
       " WindowsPath('K:/ATUR/ELEVATION/3DEP_10m_1_3_arcsecond/USGS_13_n38w110_20220720.tif'),\n",
       " WindowsPath('K:/ATUR/ELEVATION/3DEP_10m_1_3_arcsecond/USGS_13_n38w111_20211215.tif'),\n",
       " WindowsPath('K:/ATUR/ELEVATION/3DEP_10m_1_3_arcsecond/USGS_13_n38w112_20211215.tif'),\n",
       " WindowsPath('K:/ATUR/ELEVATION/3DEP_10m_1_3_arcsecond/USGS_13_n38w113_20240227.tif'),\n",
       " WindowsPath('K:/ATUR/ELEVATION/3DEP_10m_1_3_arcsecond/USGS_13_n38w114_20240130.tif'),\n",
       " WindowsPath('K:/ATUR/ELEVATION/3DEP_10m_1_3_arcsecond/USGS_13_n38w115_20240130.tif')]"
      ]
     },
     "execution_count": 14,
     "metadata": {},
     "output_type": "execute_result"
    }
   ],
   "source": [
    "# designate path to rasters\n",
    "raster_in_path = Path('K:/ATUR\\ELEVATION/3DEP_10m_1_3_arcsecond/')\n",
    "out_path = Path('G:Data/Mogollon_Rim/Elevation/')\n",
    "Path('mosaic').mkdir(parents=True, exist_ok=True)\n",
    "output_path = 'mosaic/Mogollon_10m_elevation.tif'\n",
    "# list files in input directory\n",
    "list(raster_in_path.iterdir())\n",
    "\n"
   ]
  },
  {
   "cell_type": "code",
   "execution_count": 10,
   "id": "d8e08452-908e-4041-91ba-cdc3b9281cb2",
   "metadata": {},
   "outputs": [],
   "source": [
    "# create a list from this directory\n",
    "raster_files = list(raster_in_path.iterdir())"
   ]
  },
  {
   "cell_type": "markdown",
   "id": "2ff764ac-1e83-4162-aa6b-c94d6267b4ae",
   "metadata": {},
   "source": [
    "### Step 3\n",
    "Lets create a little function so we can specify which files we want from this list"
   ]
  },
  {
   "cell_type": "code",
   "execution_count": 9,
   "id": "b51fc9f7-d418-47f4-9a7b-5f7b973865ba",
   "metadata": {},
   "outputs": [],
   "source": [
    "def filter_files_by_coordinate_pairs(file_list, coordinate_pairs):\n",
    "    \"\"\"\n",
    "    Filters files by specified 'nxxwyyy' coordinate pairs.\n",
    "\n",
    "    Args:\n",
    "    file_list (list of Path): List of file paths.\n",
    "    coordinate_pairs (list of str): List of 'nxxwyyy' values to include.\n",
    "\n",
    "    Returns:\n",
    "    list of Path: Filtered list of file paths.\n",
    "    \"\"\"\n",
    "    filtered_files = []\n",
    "    for file_path in file_list:\n",
    "        filename = file_path.name\n",
    "        # Check if filename contains any of the specified 'nxxwyyy' values\n",
    "        if any(coord_pair in filename for coord_pair in coordinate_pairs):\n",
    "            filtered_files.append(file_path)\n",
    "    return filtered_files\n"
   ]
  },
  {
   "cell_type": "code",
   "execution_count": 15,
   "id": "3cab872c-7343-4403-86cb-ee6714f0b865",
   "metadata": {},
   "outputs": [
    {
     "name": "stdout",
     "output_type": "stream",
     "text": [
      "K:\\ATUR\\ELEVATION\\3DEP_10m_1_3_arcsecond\\USGS_13_n34w111_20240402.tif\n",
      "K:\\ATUR\\ELEVATION\\3DEP_10m_1_3_arcsecond\\USGS_13_n34w112_20240402.tif\n",
      "K:\\ATUR\\ELEVATION\\3DEP_10m_1_3_arcsecond\\USGS_13_n35w110_20211207.tif\n",
      "K:\\ATUR\\ELEVATION\\3DEP_10m_1_3_arcsecond\\USGS_13_n35w111_20240402.tif\n",
      "K:\\ATUR\\ELEVATION\\3DEP_10m_1_3_arcsecond\\USGS_13_n35w112_20240402.tif\n",
      "K:\\ATUR\\ELEVATION\\3DEP_10m_1_3_arcsecond\\USGS_13_n35w113_20240402.tif\n",
      "K:\\ATUR\\ELEVATION\\3DEP_10m_1_3_arcsecond\\USGS_13_n36w113_20240402.tif\n"
     ]
    }
   ],
   "source": [
    "# Example usage:\n",
    "raster_in_path = Path(\"K:/ATUR/ELEVATION/3DEP_10m_1_3_arcsecond/\")\n",
    "file_list = list(raster_in_path.iterdir())\n",
    "\n",
    "# Define the coordinate pairs you want to filter by\n",
    "coordinate_pairs = ['n36w113', 'n34w111', 'n34w112', 'n35w110', 'n35w111', 'n35w112', 'n35w113']\n",
    "\n",
    "# Filter files\n",
    "selected_files = filter_files_by_coordinate_pairs(file_list, coordinate_pairs)\n",
    "for file in selected_files:\n",
    "    print(file)"
   ]
  },
  {
   "cell_type": "code",
   "execution_count": 18,
   "id": "c7bd129f-a83a-4e68-9074-e70686ea745c",
   "metadata": {},
   "outputs": [
    {
     "data": {
      "text/plain": [
       "[]"
      ]
     },
     "execution_count": 18,
     "metadata": {},
     "output_type": "execute_result"
    }
   ],
   "source": [
    "# create an empty list to populate\n",
    "raster_to_mosaic = []\n"
   ]
  },
  {
   "cell_type": "markdown",
   "id": "78f83e6f-6f96-4048-bdd6-b8932da5226b",
   "metadata": {},
   "source": [
    "### Step 4\n",
    "loop through the selected files and open them, then append them to the raster"
   ]
  },
  {
   "cell_type": "code",
   "execution_count": 19,
   "id": "1bba037e-4db9-4336-b9dd-6f648d90474c",
   "metadata": {},
   "outputs": [],
   "source": [
    "for p in selected_files:\n",
    "    raster = rio.open(p)\n",
    "    raster_to_mosaic.append(raster)\n",
    "    "
   ]
  },
  {
   "cell_type": "markdown",
   "id": "f897f95e-d771-467f-b215-788ea1ea0d9c",
   "metadata": {},
   "source": [
    "### Step 5\n",
    "Merge the files into a mosaic"
   ]
  },
  {
   "cell_type": "code",
   "execution_count": 21,
   "id": "e74645a0-8cdf-46ee-91be-8f5aac73af0d",
   "metadata": {},
   "outputs": [
    {
     "ename": "RasterioIOError",
     "evalue": "Read or write failed. K:/ATUR/ELEVATION/3DEP_10m_1_3_arcsecond/USGS_13_n34w112_20240402.tif, band 1: IReadBlock failed at X offset 21, Y offset 4: TIFFReadEncodedTile() failed.",
     "output_type": "error",
     "traceback": [
      "\u001b[1;31m---------------------------------------------------------------------------\u001b[0m",
      "\u001b[1;31mCPLE_AppDefinedError\u001b[0m                      Traceback (most recent call last)",
      "File \u001b[1;32mrasterio\\\\_io.pyx:977\u001b[0m, in \u001b[0;36mrasterio._io.DatasetReaderBase._read\u001b[1;34m()\u001b[0m\n",
      "File \u001b[1;32mrasterio\\\\_io.pyx:215\u001b[0m, in \u001b[0;36mrasterio._io.io_multi_band\u001b[1;34m()\u001b[0m\n",
      "File \u001b[1;32mrasterio\\\\_err.pyx:195\u001b[0m, in \u001b[0;36mrasterio._err.exc_wrap_int\u001b[1;34m()\u001b[0m\n",
      "\u001b[1;31mCPLE_AppDefinedError\u001b[0m: K:/ATUR/ELEVATION/3DEP_10m_1_3_arcsecond/USGS_13_n34w112_20240402.tif, band 1: IReadBlock failed at X offset 21, Y offset 4: TIFFReadEncodedTile() failed.",
      "\nDuring handling of the above exception, another exception occurred:\n",
      "\u001b[1;31mRasterioIOError\u001b[0m                           Traceback (most recent call last)",
      "Cell \u001b[1;32mIn[21], line 1\u001b[0m\n\u001b[1;32m----> 1\u001b[0m Mosaic, Output \u001b[38;5;241m=\u001b[39m \u001b[43mmerge\u001b[49m\u001b[43m(\u001b[49m\u001b[43mraster_to_mosaic\u001b[49m\u001b[43m)\u001b[49m\n",
      "File \u001b[1;32m~\\AppData\\Local\\anaconda3\\envs\\ATUR_Geoprocessing_py39\\lib\\site-packages\\rasterio\\merge.py:361\u001b[0m, in \u001b[0;36mmerge\u001b[1;34m(datasets, bounds, res, nodata, dtype, precision, indexes, output_count, resampling, method, target_aligned_pixels, dst_path, dst_kwds)\u001b[0m\n\u001b[0;32m    355\u001b[0m     temp_height, temp_width \u001b[38;5;241m=\u001b[39m (\n\u001b[0;32m    356\u001b[0m         dst_window_rnd_off\u001b[38;5;241m.\u001b[39mheight,\n\u001b[0;32m    357\u001b[0m         dst_window_rnd_off\u001b[38;5;241m.\u001b[39mwidth,\n\u001b[0;32m    358\u001b[0m     )\n\u001b[0;32m    359\u001b[0m     temp_shape \u001b[38;5;241m=\u001b[39m (src_count, temp_height, temp_width)\n\u001b[1;32m--> 361\u001b[0m     temp_src \u001b[38;5;241m=\u001b[39m \u001b[43msrc\u001b[49m\u001b[38;5;241;43m.\u001b[39;49m\u001b[43mread\u001b[49m\u001b[43m(\u001b[49m\n\u001b[0;32m    362\u001b[0m \u001b[43m        \u001b[49m\u001b[43mout_shape\u001b[49m\u001b[38;5;241;43m=\u001b[39;49m\u001b[43mtemp_shape\u001b[49m\u001b[43m,\u001b[49m\n\u001b[0;32m    363\u001b[0m \u001b[43m        \u001b[49m\u001b[43mwindow\u001b[49m\u001b[38;5;241;43m=\u001b[39;49m\u001b[43msrc_window_rnd_shp\u001b[49m\u001b[43m,\u001b[49m\n\u001b[0;32m    364\u001b[0m \u001b[43m        \u001b[49m\u001b[43mboundless\u001b[49m\u001b[38;5;241;43m=\u001b[39;49m\u001b[38;5;28;43;01mFalse\u001b[39;49;00m\u001b[43m,\u001b[49m\n\u001b[0;32m    365\u001b[0m \u001b[43m        \u001b[49m\u001b[43mmasked\u001b[49m\u001b[38;5;241;43m=\u001b[39;49m\u001b[38;5;28;43;01mTrue\u001b[39;49;00m\u001b[43m,\u001b[49m\n\u001b[0;32m    366\u001b[0m \u001b[43m        \u001b[49m\u001b[43mindexes\u001b[49m\u001b[38;5;241;43m=\u001b[39;49m\u001b[43mindexes\u001b[49m\u001b[43m,\u001b[49m\n\u001b[0;32m    367\u001b[0m \u001b[43m        \u001b[49m\u001b[43mresampling\u001b[49m\u001b[38;5;241;43m=\u001b[39;49m\u001b[43mresampling\u001b[49m\u001b[43m,\u001b[49m\n\u001b[0;32m    368\u001b[0m \u001b[43m    \u001b[49m\u001b[43m)\u001b[49m\n\u001b[0;32m    370\u001b[0m \u001b[38;5;66;03m# 5. Copy elements of temp into dest\u001b[39;00m\n\u001b[0;32m    371\u001b[0m roff, coff \u001b[38;5;241m=\u001b[39m (\n\u001b[0;32m    372\u001b[0m     \u001b[38;5;28mmax\u001b[39m(\u001b[38;5;241m0\u001b[39m, dst_window_rnd_off\u001b[38;5;241m.\u001b[39mrow_off),\n\u001b[0;32m    373\u001b[0m     \u001b[38;5;28mmax\u001b[39m(\u001b[38;5;241m0\u001b[39m, dst_window_rnd_off\u001b[38;5;241m.\u001b[39mcol_off),\n\u001b[0;32m    374\u001b[0m )\n",
      "File \u001b[1;32mrasterio\\\\_io.pyx:653\u001b[0m, in \u001b[0;36mrasterio._io.DatasetReaderBase.read\u001b[1;34m()\u001b[0m\n",
      "File \u001b[1;32mrasterio\\\\_io.pyx:980\u001b[0m, in \u001b[0;36mrasterio._io.DatasetReaderBase._read\u001b[1;34m()\u001b[0m\n",
      "\u001b[1;31mRasterioIOError\u001b[0m: Read or write failed. K:/ATUR/ELEVATION/3DEP_10m_1_3_arcsecond/USGS_13_n34w112_20240402.tif, band 1: IReadBlock failed at X offset 21, Y offset 4: TIFFReadEncodedTile() failed."
     ]
    }
   ],
   "source": [
    "Mosaic, Output = merge(raster_to_mosaic)"
   ]
  },
  {
   "cell_type": "markdown",
   "id": "f5fb48e8-03f4-4e83-9a28-496bc7f1aee5",
   "metadata": {},
   "source": [
    "### Step 6\n",
    "Next we copy the raster's metadata and update it to match the height and width of the mosaic"
   ]
  },
  {
   "cell_type": "code",
   "execution_count": null,
   "id": "a04b9076-0524-4253-8a9e-eb6fa12e731d",
   "metadata": {},
   "outputs": [],
   "source": [
    "output_meta = raster.meta.copy()\n",
    "output_meta.update(\n",
    "    {\"driver\": \"GTiff\",\n",
    "        \"height\": Mosaic.shape[1],\n",
    "        \"width\": Mosaic.shape[2],\n",
    "        \"transform\": Output,\n",
    "    }\n",
    ")"
   ]
  },
  {
   "cell_type": "markdown",
   "id": "18f75ac6-c9b1-4fd2-892e-7e517d350250",
   "metadata": {},
   "source": [
    "### Step 7\n",
    "Output the raster to the output folder\n"
   ]
  },
  {
   "cell_type": "code",
   "execution_count": null,
   "id": "da3398a0-e5f7-45ea-a682-a5a6a8525d22",
   "metadata": {},
   "outputs": [],
   "source": [
    "with rio.open(output_path, “w”, **output_meta) as m:\n",
    "    m.write(Mosaic)"
   ]
  }
 ],
 "metadata": {
  "kernelspec": {
   "display_name": "Python 3 (ipykernel)",
   "language": "python",
   "name": "python3"
  },
  "language_info": {
   "codemirror_mode": {
    "name": "ipython",
    "version": 3
   },
   "file_extension": ".py",
   "mimetype": "text/x-python",
   "name": "python",
   "nbconvert_exporter": "python",
   "pygments_lexer": "ipython3",
   "version": "3.9.19"
  }
 },
 "nbformat": 4,
 "nbformat_minor": 5
}
